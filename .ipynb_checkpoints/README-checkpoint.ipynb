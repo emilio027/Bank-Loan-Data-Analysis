{
 "cells": [
  {
   "cell_type": "markdown",
   "metadata": {},
   "source": [
    "# Bank Loan Data Analysis"
   ]
  },
  {
   "cell_type": "markdown",
   "metadata": {},
   "source": [
    "![alt text](Intro_Image \"Loan Analysis\")"
   ]
  },
  {
   "cell_type": "markdown",
   "metadata": {},
   "source": [
    "## Summary\n",
    "\n",
    "Supervised learning algorithms were deployed in a data-set containing the information of 300K loans, including critical metrics that help us better understand the process by which future loans can be measured, with the end goal of minimizing delinquent loans and the loss of the principal amount loaned.\n"
   ]
  },
  {
   "cell_type": "markdown",
   "metadata": {},
   "source": [
    "## Business Problem \n",
    "\n",
    "The costliest mistake the bank can make is to issue a loan that will end up in default or delinquency. This model aims to understand the metrics we need to monitor throughout the lifecycle of a loan to avoid any potential loss of the principal amount on top of interest not accrued. \n",
    "\n",
    "This kind of error in our model is a false negative error and is significantly more costly than a false positive error in which the bank would only lose a hypothetical interest amount as the loan was never distributed. "
   ]
  },
  {
   "cell_type": "markdown",
   "metadata": {},
   "source": [
    "## Data\n",
    "\n",
    "The data used in these supervised learning algorithmic models came from 300,000 records with a ratio of 2:1, not delinquent - to - delinquent. The features implemented in this model are the following:\n",
    "\n",
    "Loan Amount\n",
    "\n",
    "Funded Amount\n",
    "\n",
    "Funded Amount Invested\n",
    "\n",
    "Interest Rate\n",
    "\n",
    "Installments\n",
    "\n",
    "Annaul Income\n",
    "\n",
    "FICO Range – Low\n",
    "\n",
    "FICO Range – High\n",
    "\n",
    "Total Payment\n",
    "\n",
    "Total Payment – Investement\n",
    "\n",
    "Total Recovered Principal\n",
    "\n",
    "Total Recovered Interest\n",
    "\n",
    "Last FICO Range – High\n",
    "\n",
    "Last FICO Rango  - Low \n"
   ]
  },
  {
   "cell_type": "markdown",
   "metadata": {},
   "source": [
    "## Results"
   ]
  },
  {
   "cell_type": "markdown",
   "metadata": {},
   "source": [
    "### Logistic Regression Model\n",
    "\n",
    "\n",
    "The first model is a Logistic Regression Model. This model allows us to view how our model can detect False Negative and False Positive errors.\n",
    "\n",
    "\n",
    "\n",
    "![alt text](Confusion_Matrix \"Confusion Matrix\")\n"
   ]
  },
  {
   "cell_type": "markdown",
   "metadata": {},
   "source": [
    "### Random Forests Model\n",
    "\n",
    "\n",
    "A decision tree initiated our second model as a preliminary step to our Random Forest algorithm.\n",
    "\n",
    "After we run our Random Forest, we can interpret the importance of each feature and verify the precision of our model. \n",
    "\n",
    "\n",
    "\n",
    "\n",
    "\n",
    "\n",
    "\n",
    "![alt text](Feature_Importance \"Feature Importance\")\n",
    "\n",
    "\n",
    "\n",
    "\n",
    "\n",
    "\n",
    "![alt text](Classification_Report \"Classification Report\")\n",
    "\n"
   ]
  },
  {
   "cell_type": "markdown",
   "metadata": {},
   "source": [
    "We can see the importance of monitoring FICO scores throughout the loan lifecycle. We can also see the model performed at a 97% precision rate on our test data.\n",
    "\n",
    "It is imperative to gauge the FICO fluctuation of the applicant from 36 -60 months before the loan application in order as this is our most important feature and our best predictor as to whether an applicant will become delinquent in the future or not."
   ]
  }
 ],
 "metadata": {
  "kernelspec": {
   "display_name": "Python 3",
   "language": "python",
   "name": "python3"
  },
  "language_info": {
   "codemirror_mode": {
    "name": "ipython",
    "version": 3
   },
   "file_extension": ".py",
   "mimetype": "text/x-python",
   "name": "python",
   "nbconvert_exporter": "python",
   "pygments_lexer": "ipython3",
   "version": "3.8.5"
  }
 },
 "nbformat": 4,
 "nbformat_minor": 4
}
