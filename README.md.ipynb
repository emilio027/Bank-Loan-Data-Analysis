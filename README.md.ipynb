{
 "cells": [
  {
   "cell_type": "markdown",
   "metadata": {},
   "source": [
    "# PJ Morgan Bank Loan Data Analysis"
   ]
  },
  {
   "cell_type": "markdown",
   "metadata": {},
   "source": [
    "![alt text](Intro_Image \"Loan Analysis\")"
   ]
  },
  {
   "cell_type": "markdown",
   "metadata": {},
   "source": [
    "## Summary\n",
    "\n",
    "Supervised learning algorithms were deployed in a data-set containing the information of 300K loans including important metrics that help us better understand the process by which future loans can be measured against, with the end goal of minimizing delinquent loans and the loss of the principal amount loaned\n"
   ]
  },
  {
   "cell_type": "markdown",
   "metadata": {},
   "source": [
    "## Business Problem \n",
    "\n",
    "The costliest mistake the bank can make is to issue a loan that will end up in default or deliquency. The aim of this model is to understand the metrics we need to montior though out the lifecyle of a loan so as to avoid any potential loss of the principal amount on top of interest not accurred. \n",
    "\n",
    "This kind of error in our model is a false negative error and is signifiactnly more costly than a false positive error in which the bank would only lose hypothetical interest amount as the loan was never distributed. "
   ]
  },
  {
   "cell_type": "markdown",
   "metadata": {},
   "source": [
    "## Data\n",
    "\n",
    "The data used in these supervised learning algorithmic models came from 300,000 records with a ratio or 2:1, not delinquent - to - delinquent. The features implemented in this model are the following:\n",
    "\n",
    "Loan Amount\n",
    "\n",
    "Funded Amount\n",
    "\n",
    "Funded Amount Invested\n",
    "\n",
    "Interest Rate\n",
    "\n",
    "Installments\n",
    "\n",
    "Annaul Income\n",
    "\n",
    "FICO Range – Low\n",
    "\n",
    "FICO Range – High\n",
    "\n",
    "Total Payment\n",
    "\n",
    "Total Payment – Investement\n",
    "\n",
    "Total Recovered Principal\n",
    "\n",
    "Total Recovered Interest\n",
    "\n",
    "Last FICO Range – High\n",
    "\n",
    "Last FICO Rango  - Low \n"
   ]
  },
  {
   "cell_type": "markdown",
   "metadata": {},
   "source": [
    "## Results"
   ]
  },
  {
   "cell_type": "markdown",
   "metadata": {},
   "source": [
    "### Logistic Regression Model\n",
    "\n",
    "\n",
    "The first model is a Logistic Regression Model. This model allows us to view the precission by which our model can detect False Negative and False Positive errors\n",
    "\n",
    "\n",
    "\n",
    "![alt text](Confusion_Matrix \"Confusion Matrix\")\n"
   ]
  },
  {
   "cell_type": "markdown",
   "metadata": {},
   "source": [
    "### Random Forests Model\n",
    "\n",
    "\n",
    "Our second model was initiated by decision tree as a preliminary step to our Random Forest algorithm.\n",
    "\n",
    "After we run our Random Forest we are able to interpret the importance of each indivial feature and verify the precission of our model \n",
    "\n",
    "\n",
    "\n",
    "\n",
    "\n",
    "\n",
    "\n",
    "![alt text](Feature_Importance \"Feature Importance\")\n",
    "\n",
    "\n",
    "\n",
    "\n",
    "\n",
    "\n",
    "![alt text](Classification_Report \"Classification Report\")\n",
    "\n"
   ]
  },
  {
   "cell_type": "markdown",
   "metadata": {},
   "source": [
    "We can see the importnace of monitoring FICO scores throught the lifecylce of the loan. We can also see the model preformed at a 97% precission rate on our test data. \n",
    "\n",
    "It is imperative to gage the FICO fluctuation of the applicant from 36 -60 months prior to the loan application in order as this is our most important feature and our best predictor as to whether an applicant will become delinquent in the future or not."
   ]
  },
  {
   "cell_type": "code",
   "execution_count": null,
   "metadata": {},
   "outputs": [],
   "source": []
  },
  {
   "cell_type": "code",
   "execution_count": null,
   "metadata": {},
   "outputs": [],
   "source": []
  },
  {
   "cell_type": "code",
   "execution_count": null,
   "metadata": {},
   "outputs": [],
   "source": []
  },
  {
   "cell_type": "code",
   "execution_count": null,
   "metadata": {},
   "outputs": [],
   "source": []
  },
  {
   "cell_type": "code",
   "execution_count": null,
   "metadata": {},
   "outputs": [],
   "source": []
  },
  {
   "cell_type": "code",
   "execution_count": null,
   "metadata": {},
   "outputs": [],
   "source": []
  },
  {
   "cell_type": "code",
   "execution_count": null,
   "metadata": {},
   "outputs": [],
   "source": []
  },
  {
   "cell_type": "code",
   "execution_count": null,
   "metadata": {},
   "outputs": [],
   "source": []
  },
  {
   "cell_type": "code",
   "execution_count": null,
   "metadata": {},
   "outputs": [],
   "source": []
  }
 ],
 "metadata": {
  "kernelspec": {
   "display_name": "Python 3",
   "language": "python",
   "name": "python3"
  },
  "language_info": {
   "codemirror_mode": {
    "name": "ipython",
    "version": 3
   },
   "file_extension": ".py",
   "mimetype": "text/x-python",
   "name": "python",
   "nbconvert_exporter": "python",
   "pygments_lexer": "ipython3",
   "version": "3.8.5"
  }
 },
 "nbformat": 4,
 "nbformat_minor": 4
}
